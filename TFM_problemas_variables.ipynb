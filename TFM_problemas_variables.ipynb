{
 "cells": [
  {
   "cell_type": "markdown",
   "metadata": {
    "hide_input": true
   },
   "source": [
    "# Cuaderno Jupyter 3: Diversos ejercicios con coeficientes aleatorios"
   ]
  },
  {
   "cell_type": "markdown",
   "metadata": {},
   "source": [
    "## Sistema de dos incógnitas y dos ecuaciones"
   ]
  },
  {
   "cell_type": "code",
   "execution_count": null,
   "metadata": {
    "hide_input": true
   },
   "outputs": [],
   "source": [
    "import handcalcs.render\n",
    "import IPython\n",
    "import random\n",
    "from sympy import *\n",
    "from IPython.display import display, Markdown, Latex, Math\n",
    "from sympy import simplify\n",
    "from sympy.abc import x\n",
    "\n",
    "init_printing()\n",
    "x = symbols('x')\n",
    "y = symbols('y')\n",
    "a_ = symbols('a')\n",
    "b_ = symbols('b')\n",
    "c_ = symbols('c')\n",
    "d_ = symbols('d')"
   ]
  },
  {
   "cell_type": "code",
   "execution_count": null,
   "metadata": {},
   "outputs": [],
   "source": [
    "a=3\n",
    "polynomial = (a*x + 3)**4\n",
    "polynomial.expand()"
   ]
  },
  {
   "cell_type": "markdown",
   "metadata": {},
   "source": [
    "## Ecuación de primer grado (nivel algebrización 1) con coeficientes variables"
   ]
  },
  {
   "cell_type": "code",
   "execution_count": null,
   "metadata": {
    "code_folding": [],
    "hide_input": false
   },
   "outputs": [],
   "source": [
    "#declarar un índice del array sea aleatoio para tener un set que quiera\n",
    "#para asegurarme que todas tengan solucion en estos problemas\n",
    "A=[1,2,-1,5,10,7,6,1,4,1]\n",
    "B=[-5,-7,7,-2,-4,21,-5,-5,-6,Rational(-7,6)]\n",
    "C=[6,3,-10,1,4,-28,1,-84,2,Rational(1,3)]\n",
    "\n",
    "random_index=random.randint(0, len(A)-1)\n",
    "\n",
    "a=A[random_index]\n",
    "b=B[random_index]\n",
    "\n",
    "linear_equation = Eq(a*x+b, 0)\n",
    "linear_equation"
   ]
  },
  {
   "cell_type": "markdown",
   "metadata": {},
   "source": [
    "## Ecuación de primer grado (nivel algebrización 2) con coeficientes variables"
   ]
  },
  {
   "cell_type": "code",
   "execution_count": null,
   "metadata": {},
   "outputs": [],
   "source": [
    "#declarar un índice del array sea aleatoio para tener un set que quiera\n",
    "#para asegurarme que todas tengan solucion en estos problemas\n",
    "A=[1,2,-1,5,10,7,6,1,4,1]\n",
    "B=[-5,-7,7,-2,-4,1,-5,-5,-6,Rational(-7,6)]\n",
    "C=[6,3,-10,1,4,-8,1,-8,2,Rational(1,3)]\n",
    "D=[6,3,-10,1,4,-28,1,-4,2,Rational(1,3)]\n",
    "E=[6,3,-10,1,4,-8,1,0,2,Rational(1,3)]\n",
    "F=[6,3,-10,1,4,-2,1,-4,2,Rational(1,3)]\n",
    "\n",
    "\n",
    "random_index=random.randint(0, len(A)-1)\n",
    "\n",
    "a=A[random_index]\n",
    "b=B[random_index]\n",
    "c=C[random_index]\n",
    "d=D[random_index]\n",
    "e=E[random_index]\n",
    "f=F[random_index]\n",
    "\n",
    "linear_equation = Eq(a*x+b+c, d*x+e+f*x)\n",
    "linear_equation"
   ]
  },
  {
   "cell_type": "markdown",
   "metadata": {},
   "source": [
    "## Generación de problemas con ecuaciones de primer grado con coeficientes variables"
   ]
  },
  {
   "cell_type": "code",
   "execution_count": null,
   "metadata": {},
   "outputs": [],
   "source": [
    "dias= 3\n",
    "\n",
    "kilometros = 70\n",
    "\n",
    "A=['tercera','cuarta','quinta','sexta'] \n",
    "\n",
    "random_index_A=random.randint(0, len(A)-1)\n",
    "random_index_B=random.randint(0, len(A)-1)\n"
   ]
  },
  {
   "cell_type": "markdown",
   "metadata": {
    "variables": {
     "A[random_index_A]": {},
     "A[random_index_B]": {},
     "dias": {},
     "kilometros": {}
    }
   },
   "source": [
    "\n",
    "Traduce el siguiente problema en una ecuación:\n",
    "\n",
    "Un viajero hace un trayecto en {{dias}} días. \n",
    "\n",
    "1) El primer día recorre la {{A[random_index_A]}} parte del camino\n",
    "\n",
    "2) El segundo día recorre la {{A[random_index_B]}} parte de lo que le queda por recorrer\n",
    "\n",
    "3) El último dia recorre {{kilometros}} km \n",
    "\n",
    "¿Qué distancia recorre en total?\n"
   ]
  },
  {
   "cell_type": "markdown",
   "metadata": {},
   "source": [
    "## Generación de matrices con coeficientes variables"
   ]
  },
  {
   "cell_type": "code",
   "execution_count": 80,
   "metadata": {},
   "outputs": [],
   "source": [
    "from IPython.display import display, Math\n",
    "\n",
    "def print_matrix(array):\n",
    "    matrix = ''\n",
    "    for row in array:\n",
    "        try:\n",
    "            for number in row:\n",
    "                matrix += f'{number}&'\n",
    "        except TypeError:\n",
    "            matrix += f'{row}&'\n",
    "        matrix = matrix[:-1] + r'\\\\'\n",
    "    display(Math(r'\\begin{bmatrix}'+matrix+r'\\end{bmatrix}'))"
   ]
  },
  {
   "cell_type": "code",
   "execution_count": 81,
   "metadata": {},
   "outputs": [
    {
     "data": {
      "text/latex": [
       "$\\displaystyle \\begin{bmatrix}a_1&a_2\\\\a_3&a_4\\\\\\end{bmatrix}$"
      ],
      "text/plain": [
       "<IPython.core.display.Math object>"
      ]
     },
     "metadata": {},
     "output_type": "display_data"
    }
   ],
   "source": [
    "print_matrix([['a_1','a_2'],['a_3','a_4']])"
   ]
  },
  {
   "cell_type": "code",
   "execution_count": 82,
   "metadata": {},
   "outputs": [
    {
     "data": {
      "text/latex": [
       "$\\displaystyle \\begin{bmatrix}0&1\\\\0&2\\\\\\end{bmatrix}$"
      ],
      "text/plain": [
       "<IPython.core.display.Math object>"
      ]
     },
     "metadata": {},
     "output_type": "display_data"
    }
   ],
   "source": [
    "a,b,c,d=random.randint(0, 5),random.randint(0, 1),random.randint(0, 1),random.randint(0, 2)\n",
    "print_matrix([[a,b],[c,d]])"
   ]
  },
  {
   "cell_type": "markdown",
   "metadata": {},
   "source": [
    "## Generación de un sistema 2 x 2 con coeficientes variables"
   ]
  },
  {
   "cell_type": "code",
   "execution_count": 152,
   "metadata": {},
   "outputs": [],
   "source": [
    "from IPython.display import display, Math\n",
    "#\\begin{cases} 3x + 5y + z \\\\ 7x – 2y + 4z \\\\ -6x + 3y + 2z \\end{cases}\n",
    "def print_system_2(array):\n",
    "    system = ''\n",
    "    for row in array:\n",
    "        if row[0] == 1:\n",
    "            s0='x + ';\n",
    "        else:\n",
    "            s0=str(row[0])+'x + ';  \n",
    "        if row[1] == 1:\n",
    "            s1='y ';\n",
    "        else:\n",
    "            s1=str(row[1])+'y '; \n",
    "        \n",
    "        system += s0 + s1 + '=' + str(row[2]) + r'\\\\' \n",
    "        \n",
    "    display(Math(r'\\begin{cases}'+system+r'\\end{cases}'))"
   ]
  },
  {
   "cell_type": "code",
   "execution_count": 153,
   "metadata": {},
   "outputs": [
    {
     "data": {
      "text/latex": [
       "$\\displaystyle \\begin{cases}5x + y =5\\\\2x + y =0\\\\\\end{cases}$"
      ],
      "text/plain": [
       "<IPython.core.display.Math object>"
      ]
     },
     "metadata": {},
     "output_type": "display_data"
    }
   ],
   "source": [
    "a,b,c,d,e,f=random.randint(1, 5),random.randint(1, 1),random.randint(0, 5),random.randint(1, 2),random.randint(1, 2),random.randint(0, 2)\n",
    "print_system_2([[a,b,c],[d,e,f]])"
   ]
  },
  {
   "cell_type": "markdown",
   "metadata": {},
   "source": [
    "## Generación de un sistema 3 x 3 con coeficientes variables"
   ]
  },
  {
   "cell_type": "code",
   "execution_count": 143,
   "metadata": {},
   "outputs": [],
   "source": [
    "from IPython.display import display, Math\n",
    "#\\begin{cases} 3x + 5y + z \\\\ 7x – 2y + 4z \\\\ -6x + 3y + 2z \\end{cases}\n",
    "def print_system_3(array):\n",
    "    system = '' \n",
    "    for row in array:\n",
    "        if row[0] == 1:\n",
    "            s0='x + ';\n",
    "        else:\n",
    "            s0=str(row[0])+'x + ';   \n",
    "        if row[1] == 1:\n",
    "            s1='y +';\n",
    "        else:\n",
    "            s1=str(row[1])+'y +';\n",
    "            \n",
    "        if row[2] == 1:\n",
    "            s2='z ';\n",
    "        else:\n",
    "            s2=str(row[2])+'z ';   \n",
    "        system += s0 + s1 + s2 + '=' + str(row[3]) + r'\\\\'    \n",
    "    display(Math(r'\\begin{cases}'+system+r'\\end{cases}'))"
   ]
  },
  {
   "cell_type": "code",
   "execution_count": 144,
   "metadata": {},
   "outputs": [
    {
     "data": {
      "text/latex": [
       "$\\displaystyle \\begin{cases}x + y +3z =2\\\\3x + y +z =2\\\\4x + y +4z =1\\\\\\end{cases}$"
      ],
      "text/plain": [
       "<IPython.core.display.Math object>"
      ]
     },
     "metadata": {},
     "output_type": "display_data"
    }
   ],
   "source": [
    "a,b,c,d,e,f,g,h,i,j,k,l=random.randint(1, 5),random.randint(1, 1),random.randint(1, 5),random.randint(0, 2),random.randint(1, 5),random.randint(1, 1),random.randint(1, 5),random.randint(0, 2),random.randint(1, 5),random.randint(1, 1),random.randint(1, 5),random.randint(0, 2)\n",
    "print_system_3([[a,b,c,d],[e,f,g,h],[i,j,k,l]])"
   ]
  },
  {
   "cell_type": "code",
   "execution_count": null,
   "metadata": {},
   "outputs": [],
   "source": []
  }
 ],
 "metadata": {
  "hide_input": false,
  "kernelspec": {
   "display_name": "Python 3",
   "language": "python",
   "name": "python3"
  },
  "language_info": {
   "codemirror_mode": {
    "name": "ipython",
    "version": 3
   },
   "file_extension": ".py",
   "mimetype": "text/x-python",
   "name": "python",
   "nbconvert_exporter": "python",
   "pygments_lexer": "ipython3",
   "version": "3.7.4"
  },
  "latex_envs": {
   "LaTeX_envs_menu_present": true,
   "autoclose": false,
   "autocomplete": true,
   "bibliofile": "biblio.bib",
   "cite_by": "apalike",
   "current_citInitial": 1,
   "eqLabelWithNumbers": true,
   "eqNumInitial": 1,
   "hotkeys": {
    "equation": "Ctrl-E",
    "itemize": "Ctrl-I"
   },
   "labels_anchors": false,
   "latex_user_defs": false,
   "report_style_numbering": false,
   "user_envs_cfg": false
  },
  "toc": {
   "base_numbering": 1,
   "nav_menu": {},
   "number_sections": true,
   "sideBar": true,
   "skip_h1_title": false,
   "title_cell": "Table of Contents",
   "title_sidebar": "Contents",
   "toc_cell": false,
   "toc_position": {},
   "toc_section_display": true,
   "toc_window_display": false
  },
  "varInspector": {
   "cols": {
    "lenName": 16,
    "lenType": 16,
    "lenVar": 40
   },
   "kernels_config": {
    "python": {
     "delete_cmd_postfix": "",
     "delete_cmd_prefix": "del ",
     "library": "var_list.py",
     "varRefreshCmd": "print(var_dic_list())"
    },
    "r": {
     "delete_cmd_postfix": ") ",
     "delete_cmd_prefix": "rm(",
     "library": "var_list.r",
     "varRefreshCmd": "cat(var_dic_list()) "
    }
   },
   "types_to_exclude": [
    "module",
    "function",
    "builtin_function_or_method",
    "instance",
    "_Feature"
   ],
   "window_display": false
  }
 },
 "nbformat": 4,
 "nbformat_minor": 2
}
